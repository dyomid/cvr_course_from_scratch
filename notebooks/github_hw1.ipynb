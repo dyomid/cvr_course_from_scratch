{
 "cells": [
  {
   "cell_type": "markdown",
   "metadata": {},
   "source": [
    "# Домашнее задание\n",
    "Домашнее задание выполнять в этой тетрадке. \n",
    "\n",
    "- [ ] Сделать fork репозитория cvr_cource (https://github.com/StarkitRobots/cvr_course) - 1 балл\n",
    "- [ ] Создать ветку update_readme - 1 балл\n",
    "- [ ] Добавить одну строчку в README.md \n",
    "- [ ] Запушить (git push) изменения в ветку update_readme - 3 балла\n",
    "- [ ] Слить (merge) ветку update_readme в ветку develop - 1 балл\n",
    "- [ ] Сохранить эту тетрадку с выполненной домашкой себе в репозиторий в ветку develop - 3 балла\n",
    "- [ ] Слить (merge) ветку develop в ветку main - 1 балл"
   ]
  },
  {
   "cell_type": "markdown",
   "metadata": {},
   "source": [
    "Материалы к семинару:\n",
    "1. [Удачная модель ветвления](https://m.habr.com/ru/post/106912/)\n",
    "2. [Зачем нужен Git](https://guides.hexlet.io/git-guide/)\n",
    "3. [Самые популярные ошибки и их решения](https://tproger.ru/translations/most-common-git-screwupsquestions-and-solutions/)\n",
    "4. [Ветвление](https://git-scm.com/book/ru/v2/%D0%92%D0%B5%D1%82%D0%B2%D0%BB%D0%B5%D0%BD%D0%B8%D0%B5-%D0%B2-Git-%D0%9E-%D0%B2%D0%B5%D1%82%D0%B2%D0%BB%D0%B5%D0%BD%D0%B8%D0%B8-%D0%B2-%D0%B4%D0%B2%D1%83%D1%85-%D1%81%D0%BB%D0%BE%D0%B2%D0%B0%D1%85)\n",
    "5. [Инструкция по всему Git](https://git-scm.com/book/ru/v2)\n",
    "6. [Приложение для обучения Git](https://learngitbranching.js.org/?locale=ru_RU), спасибо Анне Касаткиной за ссылку на отличный материал"
   ]
  },
  {
   "cell_type": "markdown",
   "metadata": {},
   "source": [
    "### 1. Сделать fork репозитория cvr_cource (https://github.com/StarkitRobots/cvr_course)"
   ]
  },
  {
   "cell_type": "code",
   "execution_count": 2,
   "metadata": {},
   "outputs": [],
   "source": [
    "# Форк репозитория https://github.com/dyomid/cvr_course"
   ]
  },
  {
   "cell_type": "code",
   "execution_count": 4,
   "metadata": {},
   "outputs": [
    {
     "name": "stderr",
     "output_type": "stream",
     "text": [
      "Cloning into 'D:\\Projects\\MachineLearning\\Study\\MIPT_Robots\\cvr_course-dyomid'...\n"
     ]
    }
   ],
   "source": [
    "# Клон репозитория на локальной машине\n",
    "!git clone https://github.com/dyomid/cvr_course.git D:\\Projects\\MachineLearning\\Study\\MIPT_Robots\\cvr_course-dyomid"
   ]
  },
  {
   "cell_type": "code",
   "execution_count": 6,
   "metadata": {},
   "outputs": [
    {
     "name": "stdout",
     "output_type": "stream",
     "text": [
      "D:\\Projects\\MachineLearning\\Study\\MIPT_Robots\\cvr_course-dyomid\n"
     ]
    }
   ],
   "source": [
    "%cd  D:\\Projects\\MachineLearning\\Study\\MIPT_Robots\\cvr_course-dyomid"
   ]
  },
  {
   "cell_type": "code",
   "execution_count": 8,
   "metadata": {},
   "outputs": [
    {
     "name": "stdout",
     "output_type": "stream",
     "text": [
      "On branch main\n",
      "Your branch is up to date with 'origin/main'.\n",
      "\n",
      "nothing to commit, working tree clean\n"
     ]
    }
   ],
   "source": [
    "!git status"
   ]
  },
  {
   "cell_type": "markdown",
   "metadata": {},
   "source": [
    "### 2. Создать ветку update_readme"
   ]
  },
  {
   "cell_type": "code",
   "execution_count": 9,
   "metadata": {},
   "outputs": [],
   "source": [
    "!git branch update_readme"
   ]
  },
  {
   "cell_type": "code",
   "execution_count": 10,
   "metadata": {},
   "outputs": [
    {
     "name": "stderr",
     "output_type": "stream",
     "text": [
      "Switched to branch 'update_readme'\n"
     ]
    }
   ],
   "source": [
    "!git checkout update_readme"
   ]
  },
  {
   "cell_type": "code",
   "execution_count": 11,
   "metadata": {},
   "outputs": [
    {
     "name": "stdout",
     "output_type": "stream",
     "text": [
      "On branch update_readme\n",
      "nothing to commit, working tree clean\n"
     ]
    }
   ],
   "source": [
    "!git status"
   ]
  },
  {
   "cell_type": "markdown",
   "metadata": {},
   "source": [
    "### 3. Добавить одну строчку в README.md"
   ]
  },
  {
   "cell_type": "code",
   "execution_count": 13,
   "metadata": {},
   "outputs": [],
   "source": [
    "!echo \"You are welcome!\" >> README.md"
   ]
  },
  {
   "cell_type": "code",
   "execution_count": 14,
   "metadata": {},
   "outputs": [
    {
     "name": "stdout",
     "output_type": "stream",
     "text": [
      "# Computer Vision in Robotics\n",
      "\n",
      "<img src=\"./.img/logo_for_form.png\" height=\"350\" />\n",
      "\n",
      "\n",
      "Visit our site <https://www.starkitrobots.com/cvr> to check content.\n",
      "Course is online and will be carried out on our *[YouTube chanel](https://www.youtube.com/channel/UC0QPJgfg17wCqf4-hG_A5OA)*.\n",
      "\"You are welcome!\" \n"
     ]
    }
   ],
   "source": [
    "!type README.md"
   ]
  },
  {
   "cell_type": "markdown",
   "metadata": {},
   "source": [
    "### 4. Запушить (git push) изменения в ветку update_readme"
   ]
  },
  {
   "cell_type": "code",
   "execution_count": 16,
   "metadata": {},
   "outputs": [
    {
     "name": "stdout",
     "output_type": "stream",
     "text": [
      "On branch update_readme\n",
      "Changes not staged for commit:\n",
      "  (use \"git add <file>...\" to update what will be committed)\n",
      "  (use \"git restore <file>...\" to discard changes in working directory)\n",
      "\tmodified:   README.md\n",
      "\n",
      "no changes added to commit (use \"git add\" and/or \"git commit -a\")\n"
     ]
    }
   ],
   "source": [
    "!git status"
   ]
  },
  {
   "cell_type": "code",
   "execution_count": 17,
   "metadata": {},
   "outputs": [],
   "source": [
    "!git add README.md"
   ]
  },
  {
   "cell_type": "code",
   "execution_count": 22,
   "metadata": {},
   "outputs": [
    {
     "name": "stdout",
     "output_type": "stream",
     "text": [
      "On branch update_readme\n",
      "nothing to commit, working tree clean\n"
     ]
    }
   ],
   "source": [
    "!git commit -m \"Update README.md\""
   ]
  },
  {
   "cell_type": "code",
   "execution_count": 26,
   "metadata": {},
   "outputs": [
    {
     "name": "stderr",
     "output_type": "stream",
     "text": [
      "remote: \n",
      "remote: Create a pull request for 'update_readme' on GitHub by visiting:        \n",
      "remote:      https://github.com/dyomid/cvr_course/pull/new/update_readme        \n",
      "remote: \n",
      "To https://github.com/dyomid/cvr_course.git\n",
      " * [new branch]      update_readme -> update_readme\n"
     ]
    }
   ],
   "source": [
    "!git push origin update_readme"
   ]
  },
  {
   "cell_type": "markdown",
   "metadata": {},
   "source": [
    "### 5. Слить (merge) ветку update_readme в ветку develop"
   ]
  },
  {
   "cell_type": "code",
   "execution_count": 32,
   "metadata": {},
   "outputs": [
    {
     "name": "stdout",
     "output_type": "stream",
     "text": [
      "Branch 'develop' set up to track remote branch 'develop' from 'origin'.\n"
     ]
    },
    {
     "name": "stderr",
     "output_type": "stream",
     "text": [
      "Switched to a new branch 'develop'\n"
     ]
    }
   ],
   "source": [
    "!git checkout develop"
   ]
  },
  {
   "cell_type": "code",
   "execution_count": 35,
   "metadata": {},
   "outputs": [
    {
     "name": "stdout",
     "output_type": "stream",
     "text": [
      "On branch develop\n",
      "Your branch is ahead of 'origin/develop' by 9 commits.\n",
      "  (use \"git push\" to publish your local commits)\n",
      "\n",
      "nothing to commit, working tree clean\n"
     ]
    }
   ],
   "source": [
    "!git status"
   ]
  },
  {
   "cell_type": "code",
   "execution_count": 34,
   "metadata": {},
   "outputs": [
    {
     "name": "stdout",
     "output_type": "stream",
     "text": [
      "Updating 85a8f0a..39d3e04\n",
      "Fast-forward\n",
      " README.md                                          |   1 +\n",
      " .../imgs/arrow/vlcsnap-2020-10-21-18h01m22s212.png | Bin 0 -> 396905 bytes\n",
      " .../imgs/arrow/vlcsnap-2020-10-21-18h01m27s294.png | Bin 0 -> 349708 bytes\n",
      " .../imgs/arrow/vlcsnap-2020-10-21-18h01m29s941.png | Bin 0 -> 358518 bytes\n",
      " .../imgs/arrow/vlcsnap-2020-10-21-18h01m33s362.png | Bin 0 -> 336322 bytes\n",
      " .../imgs/arrow/vlcsnap-2020-10-21-18h01m36s056.png | Bin 0 -> 316925 bytes\n",
      " .../imgs/arrow/vlcsnap-2020-10-21-18h01m41s874.png | Bin 0 -> 312812 bytes\n",
      " .../imgs/arrow/vlcsnap-2020-10-21-18h01m44s163.png | Bin 0 -> 334378 bytes\n",
      " .../imgs/arrow/vlcsnap-2020-10-21-18h01m46s644.png | Bin 0 -> 314245 bytes\n",
      " .../imgs/arrow/vlcsnap-2020-10-21-18h01m49s487.png | Bin 0 -> 377742 bytes\n",
      " .../imgs/arrow/vlcsnap-2020-10-21-18h01m51s638.png | Bin 0 -> 283849 bytes\n",
      " notebooks/cv_hw3.ipynb                             |  51 ++\n",
      " notebooks/cv_sem3.ipynb                            | 681 +++++++++------------\n",
      " presentations/cv_sem2.pdf                          | Bin 0 -> 5975179 bytes\n",
      " 14 files changed, 355 insertions(+), 378 deletions(-)\n",
      " create mode 100644 data/imgs/arrow/vlcsnap-2020-10-21-18h01m22s212.png\n",
      " create mode 100644 data/imgs/arrow/vlcsnap-2020-10-21-18h01m27s294.png\n",
      " create mode 100644 data/imgs/arrow/vlcsnap-2020-10-21-18h01m29s941.png\n",
      " create mode 100644 data/imgs/arrow/vlcsnap-2020-10-21-18h01m33s362.png\n",
      " create mode 100644 data/imgs/arrow/vlcsnap-2020-10-21-18h01m36s056.png\n",
      " create mode 100644 data/imgs/arrow/vlcsnap-2020-10-21-18h01m41s874.png\n",
      " create mode 100644 data/imgs/arrow/vlcsnap-2020-10-21-18h01m44s163.png\n",
      " create mode 100644 data/imgs/arrow/vlcsnap-2020-10-21-18h01m46s644.png\n",
      " create mode 100644 data/imgs/arrow/vlcsnap-2020-10-21-18h01m49s487.png\n",
      " create mode 100644 data/imgs/arrow/vlcsnap-2020-10-21-18h01m51s638.png\n",
      " create mode 100644 notebooks/cv_hw3.ipynb\n",
      " create mode 100644 presentations/cv_sem2.pdf\n"
     ]
    }
   ],
   "source": [
    "!git merge update_readme"
   ]
  },
  {
   "cell_type": "code",
   "execution_count": 37,
   "metadata": {},
   "outputs": [
    {
     "name": "stderr",
     "output_type": "stream",
     "text": [
      "To https://github.com/dyomid/cvr_course.git\n",
      "   85a8f0a..39d3e04  develop -> develop\n"
     ]
    }
   ],
   "source": [
    "!git push origin develop"
   ]
  },
  {
   "cell_type": "markdown",
   "metadata": {},
   "source": [
    "### 6.Сохранить эту тетрадку с выполненной домашкой себе в репозиторий в ветку develop "
   ]
  },
  {
   "cell_type": "code",
   "execution_count": null,
   "metadata": {},
   "outputs": [],
   "source": [
    "#сделал две домашние работы одновременно, добавляю github_hw1.ipynb и cv_hw2.ipynb\n",
    "!git add * "
   ]
  },
  {
   "cell_type": "code",
   "execution_count": null,
   "metadata": {},
   "outputs": [],
   "source": [
    "!git commit -m \"HW1 & HW2 done.\""
   ]
  },
  {
   "cell_type": "code",
   "execution_count": null,
   "metadata": {},
   "outputs": [],
   "source": [
    "!git push origin develop"
   ]
  },
  {
   "cell_type": "markdown",
   "metadata": {},
   "source": [
    "### 7. Слить (merge) ветку develop в ветку main"
   ]
  },
  {
   "cell_type": "code",
   "execution_count": null,
   "metadata": {},
   "outputs": [],
   "source": [
    "!git checkout main"
   ]
  },
  {
   "cell_type": "code",
   "execution_count": null,
   "metadata": {},
   "outputs": [],
   "source": [
    "!git merge develop"
   ]
  },
  {
   "cell_type": "code",
   "execution_count": null,
   "metadata": {},
   "outputs": [],
   "source": [
    "!git push origin main"
   ]
  }
 ],
 "metadata": {
  "kernelspec": {
   "display_name": "Python 3",
   "language": "python",
   "name": "python3"
  },
  "language_info": {
   "codemirror_mode": {
    "name": "ipython",
    "version": 3
   },
   "file_extension": ".py",
   "mimetype": "text/x-python",
   "name": "python",
   "nbconvert_exporter": "python",
   "pygments_lexer": "ipython3",
   "version": "3.7.4"
  }
 },
 "nbformat": 4,
 "nbformat_minor": 4
}
